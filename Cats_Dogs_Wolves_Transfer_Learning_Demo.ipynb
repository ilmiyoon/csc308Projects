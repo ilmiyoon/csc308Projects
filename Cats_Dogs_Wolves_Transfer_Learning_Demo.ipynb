{
  "nbformat": 4,
  "nbformat_minor": 0,
  "metadata": {
    "colab": {
      "name": "Cats-Dogs-Wolves Transfer Learning Demo.ipynb",
      "provenance": [],
      "collapsed_sections": [],
      "include_colab_link": true
    },
    "kernelspec": {
      "name": "python3",
      "display_name": "Python 3"
    },
    "accelerator": "GPU"
  },
  "cells": [
    {
      "cell_type": "markdown",
      "metadata": {
        "id": "view-in-github",
        "colab_type": "text"
      },
      "source": [
        "<a href=\"https://colab.research.google.com/github/ilmiyoon/csc308Projects/blob/main/Cats_Dogs_Wolves_Transfer_Learning_Demo.ipynb\" target=\"_parent\"><img src=\"https://colab.research.google.com/assets/colab-badge.svg\" alt=\"Open In Colab\"/></a>"
      ]
    },
    {
      "cell_type": "code",
      "metadata": {
        "id": "-OfGhW-ZUG9Q",
        "colab": {
          "base_uri": "https://localhost:8080/",
          "height": 55
        },
        "outputId": "12307fcc-f782-4f32-da7e-2cf182365b22"
      },
      "source": [
        "!nvidia-smi --list-gpus"
      ],
      "execution_count": null,
      "outputs": [
        {
          "output_type": "stream",
          "text": [
            "GPU 0: Tesla P100-PCIE-16GB (UUID: GPU-514eb6f0-50db-2e36-b699-9eb64746dbf1)\n"
          ],
          "name": "stdout"
        }
      ]
    },
    {
      "cell_type": "markdown",
      "metadata": {
        "id": "4Cn6KlS01Y1r"
      },
      "source": [
        "### Downloading the Data\n",
        "Ensure that you have uploaded the dataset to the colab environment."
      ]
    },
    {
      "cell_type": "code",
      "metadata": {
        "id": "EgzGQwrNGOsJ",
        "colab": {
          "base_uri": "https://localhost:8080/",
          "height": 55
        },
        "outputId": "1ff185f8-28c5-4a57-c556-815970a61a4c"
      },
      "source": [
        "!pip install gdown --quiet\n",
        "import gdown\n",
        "url = 'https://drive.google.com/uc?id=18pulZkIQzDHGkH-UrDzxHp_giSxerTag'\n",
        "# url = 'https://drive.google.com/uc?id=1ImrsoqvQ3JC-iGW2znQmfkoZyL5E3icJ'\n",
        "# url = 'https://drive.google.com/uc?id=1S-OJVgxKXDeS5gmqJwzUaCpXmuT4zWcu'\n",
        "output = 'animals.zip'\n",
        "gdown.download(url, output, quiet=True)"
      ],
      "execution_count": null,
      "outputs": [
        {
          "output_type": "execute_result",
          "data": {
            "text/plain": [
              "'animals.zip'"
            ]
          },
          "metadata": {
            "tags": []
          },
          "execution_count": 4
        }
      ]
    },
    {
      "cell_type": "code",
      "metadata": {
        "id": "5ndA88KR3zY-"
      },
      "source": [
        "!unzip animals.zip\n",
        "print(\"Done.\")"
      ],
      "execution_count": null,
      "outputs": []
    },
    {
      "cell_type": "code",
      "metadata": {
        "id": "_9zS58LoX63h",
        "colab": {
          "base_uri": "https://localhost:8080/",
          "height": 55
        },
        "outputId": "6735b116-a8cf-420e-9f0d-f54504cd9dd4"
      },
      "source": [
        "!find . -name '.DS_Store' -type f -delete\n",
        "\n",
        "train_path = 'cats-dogs-wolves-/datasets'\n",
        "test_path = 'cats-dogs-wolves-/testData'\n",
        "print(\"Paths Loaded.\")"
      ],
      "execution_count": null,
      "outputs": [
        {
          "output_type": "stream",
          "text": [
            "Paths Loaded.\n"
          ],
          "name": "stdout"
        }
      ]
    },
    {
      "cell_type": "markdown",
      "metadata": {
        "id": "eqQejRNKmCGR"
      },
      "source": [
        "### Importing the Software Libraries\n",
        "\n",
        "The following code imports some software libraries necessary to execute the project. "
      ]
    },
    {
      "cell_type": "code",
      "metadata": {
        "id": "WQGet9FW-n55",
        "colab": {
          "base_uri": "https://localhost:8080/",
          "height": 72
        },
        "outputId": "12bcd2e6-e736-4eb4-e017-469fc76e1cc3"
      },
      "source": [
        "%tensorflow_version 2.x\n",
        "import numpy as np\n",
        "import tensorflow.keras\n",
        "from tensorflow.keras.models import load_model\n",
        "from tensorflow.keras.models import Sequential\n",
        "from tensorflow.keras.layers import Activation, Dense, Flatten\n",
        "from tensorflow.keras.optimizers import Adam, SGD\n",
        "from tensorflow.keras.metrics import categorical_crossentropy\n",
        "from tensorflow.keras.preprocessing.image import ImageDataGenerator\n",
        "from tensorflow.keras.layers import BatchNormalization\n",
        "# from sklearn.metrics import confusion_matrix\n",
        "from mlxtend.evaluate import confusion_matrix\n",
        "import itertools\n",
        "import matplotlib.pyplot as plt\n",
        "%matplotlib inline \n",
        "print(\"Import Success!\")"
      ],
      "execution_count": null,
      "outputs": [
        {
          "output_type": "stream",
          "text": [
            "TensorFlow 2.x selected.\n",
            "Import Success!\n"
          ],
          "name": "stdout"
        }
      ]
    },
    {
      "cell_type": "code",
      "metadata": {
        "id": "iojaSuJW-pJw",
        "colab": {
          "base_uri": "https://localhost:8080/",
          "height": 90
        },
        "outputId": "cb28a588-05cb-49e1-865f-8c56370b0598"
      },
      "source": [
        "image_size = (224, 224)\n",
        "classes = ['cats', 'dogs', 'wolves']\n",
        "\n",
        "train_datagen = ImageDataGenerator(validation_split=0.25) # set validation split\n",
        "\n",
        "train_batches = train_datagen.flow_from_directory(train_path, image_size, classes=classes, batch_size=15, subset='training')\n",
        "valid_batches = train_datagen.flow_from_directory(train_path, image_size, classes=classes, batch_size=8, subset='validation')\n",
        "test_batches = ImageDataGenerator().flow_from_directory(test_path, image_size, classes=classes, batch_size=133)"
      ],
      "execution_count": null,
      "outputs": [
        {
          "output_type": "stream",
          "text": [
            "Found 272 images belonging to 3 classes.\n",
            "Found 90 images belonging to 3 classes.\n",
            "Found 133 images belonging to 3 classes.\n"
          ],
          "name": "stdout"
        }
      ]
    },
    {
      "cell_type": "code",
      "metadata": {
        "id": "dFCcMRb_jw5h",
        "colab": {
          "base_uri": "https://localhost:8080/",
          "height": 72
        },
        "outputId": "dc4ed6cf-3eeb-4c6c-da20-fe8bdf0549f3"
      },
      "source": [
        "vgg16_model = tensorflow.keras.applications.VGG16()"
      ],
      "execution_count": null,
      "outputs": [
        {
          "output_type": "stream",
          "text": [
            "Downloading data from https://github.com/fchollet/deep-learning-models/releases/download/v0.1/vgg16_weights_tf_dim_ordering_tf_kernels.h5\n",
            "553467904/553467096 [==============================] - 12s 0us/step\n"
          ],
          "name": "stdout"
        }
      ]
    },
    {
      "cell_type": "markdown",
      "metadata": {
        "id": "lUiLZgsPip5k"
      },
      "source": [
        "### Creating a Custom Output Model#\n",
        "\n",
        "A new model is created copying all layers except the output layer. Notice that these layers are set to be non-trainable. Finally, a custom output layer is added to the model.  This output layer should have the same number of outputs as the number of different classes of data. The softmax activation function conditions the output to be a probability distribuiton adding up to unity. Therefore, our model will output a probability distribution among the classes as output for each input image."
      ]
    },
    {
      "cell_type": "code",
      "metadata": {
        "id": "LEKi6uvEN0KL"
      },
      "source": [
        "model = Sequential()\n",
        "for layer in vgg16_model.layers[:-1]:\n",
        "    model.add(layer)\n",
        "for layer in model.layers:\n",
        "    layer.trainable = False\n",
        "\n",
        "model.add(Dense(len(classes), activation='softmax'))\n",
        "# model.summary()"
      ],
      "execution_count": null,
      "outputs": []
    },
    {
      "cell_type": "markdown",
      "metadata": {
        "id": "hQsSiXUk_j0J"
      },
      "source": [
        "## Training the Model\n",
        "\n",
        "Now that the model has been specified, it must be trained. \n",
        "\n",
        "\n"
      ]
    },
    {
      "cell_type": "markdown",
      "metadata": {
        "id": "mI8ljOkmpa0v"
      },
      "source": [
        "### Compiling the Model\n",
        "First,the model is compiled. The performance of the model is evalued using a loss function, which increases as performance decreases. Since we are predicting a condition (yes/no), we are using cross-entropy, which is a concept from information theory. If we were instead predicting a scalar value, the correct loss function would be 'mean_squared_error'."
      ]
    },
    {
      "cell_type": "code",
      "metadata": {
        "id": "iDG0uQ1qAccz",
        "colab": {
          "base_uri": "https://localhost:8080/",
          "height": 55
        },
        "outputId": "6e616a3c-0d53-4981-b12d-138698ee7796"
      },
      "source": [
        " model.compile(Adam(lr=.0001),\n",
        "               loss='categorical_crossentropy',\n",
        "               metrics=['accuracy'])\n",
        " print(\"Done\")"
      ],
      "execution_count": null,
      "outputs": [
        {
          "output_type": "stream",
          "text": [
            "Done\n"
          ],
          "name": "stdout"
        }
      ]
    },
    {
      "cell_type": "markdown",
      "metadata": {
        "id": "df0KalV7pnmx"
      },
      "source": [
        "### Minimizing Loss\n",
        "\n",
        "The model is now trained using the backpropagation algorithm to minimize the loss function. The training data will be passed into the model and evaluated using the loss function. Then, the model will be adjusted to decrease the loss.\n",
        "\n",
        "Here we specifiy the epochs, which is the number of times we pass through the entire training set. These specifications are determined by experimentation with the goal of minimizing validation loss. If the epochs are too high, the model has overfit to the data (too specific). If the epochs are too low, the model has underfit to the data (too general). The validation loss must be compared to training loss to determine if the model is optimally fit to the data.\n"
      ]
    },
    {
      "cell_type": "code",
      "metadata": {
        "id": "tkFe_2sRpnNt"
      },
      "source": [
        "model.fit(\n",
        "     train_batches,\n",
        "     steps_per_epoch = train_batches.samples // 15,\n",
        "     validation_data = valid_batches, \n",
        "     validation_steps = valid_batches.samples // 8,\n",
        "     epochs=30, \n",
        "     verbose=1)\n",
        "print(\"Trining Complete!\")"
      ],
      "execution_count": null,
      "outputs": []
    },
    {
      "cell_type": "markdown",
      "metadata": {
        "id": "amJJCzkTOpcF"
      },
      "source": [
        "## Testing the Model\n",
        "\n",
        "To perform a final test of the model, the test data is fed through the model.  It is important to use data that was not used in training so we can test the performance accurately. The accuracy is calculated and a confusion matrix is generated. "
      ]
    },
    {
      "cell_type": "markdown",
      "metadata": {
        "id": "_FK3o1TFt5H9"
      },
      "source": [
        "### Test Accuracy\n",
        "\n",
        "To calculate accuracy, the model is evaluated using the test generator specified earlier."
      ]
    },
    {
      "cell_type": "code",
      "metadata": {
        "id": "t5syFibUt_EA",
        "colab": {
          "base_uri": "https://localhost:8080/",
          "height": 143
        },
        "outputId": "9e7dfc65-37f0-408d-e130-c44e1afc3117"
      },
      "source": [
        "test_loss, test_acc = model.evaluate(test_batches,\n",
        "                                     steps=1,\n",
        "                                     verbose=0) \n",
        "print(test_loss)\n",
        "print(test_acc) "
      ],
      "execution_count": null,
      "outputs": [
        {
          "output_type": "stream",
          "text": [
            "WARNING:tensorflow:sample_weight modes were coerced from\n",
            "  ...\n",
            "    to  \n",
            "  ['...']\n",
            "0.2015460878610611\n",
            "0.97744364\n"
          ],
          "name": "stdout"
        }
      ]
    },
    {
      "cell_type": "markdown",
      "metadata": {
        "id": "vIOd7ID2uQlc"
      },
      "source": [
        "### Confusion Matrix\n",
        "\n",
        "A confusion matrix gives more insight than just accuracy. It allows us to determine true positives, false positives, false negatives, and true negatives. The code below generates a confusion matrix for our test output"
      ]
    },
    {
      "cell_type": "code",
      "metadata": {
        "id": "9yqGOy1KOs5q",
        "colab": {
          "base_uri": "https://localhost:8080/",
          "height": 419
        },
        "outputId": "a254d35d-9cde-4b36-aa20-73ef84e45457"
      },
      "source": [
        "def plot_confusion_matrix(cm, classes,\n",
        "                          normalize=False,\n",
        "                          title='Confusion matrix',\n",
        "                          cmap=plt.cm.Blues):\n",
        "    \"\"\"\n",
        "    This function prints and plots the confusion matrix.\n",
        "    Normalization can be applied by setting `normalize=True`.\n",
        "    \"\"\"\n",
        "    plt.imshow(cm, interpolation='nearest', cmap=cmap)\n",
        "    plt.title(title)\n",
        "    plt.colorbar()\n",
        "    tick_marks = np.arange(len(classes))\n",
        "    plt.xticks(tick_marks, classes, rotation=45)\n",
        "    plt.yticks(tick_marks, classes)\n",
        "\n",
        "    if normalize:\n",
        "        cm = cm.astype('float') / cm.sum(axis=1)[:, np.newaxis]\n",
        "        print(\"Normalized confusion matrix\")\n",
        "    else:\n",
        "        print('Confusion matrix, without normalization')\n",
        "\n",
        "    print(cm)\n",
        "\n",
        "    # thresh = cm.max() / 2.\n",
        "    # for i, j in itertools.product(range(cm.shape[0]), range(cm.shape[1])):\n",
        "    #     plt.text(j, i, cm[i, j],\n",
        "    #              horizontalalignment=\"center\",\n",
        "    #              color=\"white\" if cm[i, j] > thresh else \"black\")\n",
        "    \n",
        "    thresh = cm.max() / 3.\n",
        "    for i, j in itertools.product(range(cm.shape[0]), range(cm.shape[1])):\n",
        "        plt.text(j, i, cm[i, j],\n",
        "                 horizontalalignment=\"center\",\n",
        "                 color=\"white\" if cm[i, j] > thresh else \"black\")\n",
        "\n",
        "    plt.tight_layout()\n",
        "    plt.ylabel('True label')\n",
        "    plt.xlabel('Predicted label')\n",
        "\n",
        "# test_batches.reset()\n",
        "test_batches = ImageDataGenerator() \\\n",
        "                .flow_from_directory(test_path,\n",
        "                                     target_size=(224,224),\n",
        "                                     shuffle=False,\n",
        "                                     batch_size=133)\n",
        "test_imgs, test_labels = next(test_batches)\n",
        "# test_labels = test_labels[:,0]\n",
        "predictions = model.predict(test_batches, steps=1, verbose=0)\n",
        "# cm = confusion_matrix(test_labels, np.round(predictions[:,0]))\n",
        "cm = confusion_matrix(test_labels.argmax(axis=1), predictions.argmax(axis=1), binary=False)\n",
        "cm_plot_labels = classes\n",
        "plot_confusion_matrix(cm, cm_plot_labels, title='Confusion Matrix')\n"
      ],
      "execution_count": null,
      "outputs": [
        {
          "output_type": "stream",
          "text": [
            "Found 133 images belonging to 3 classes.\n",
            "Confusion matrix, without normalization\n",
            "[[18  0  0]\n",
            " [ 0 60  1]\n",
            " [ 0  2 52]]\n"
          ],
          "name": "stdout"
        },
        {
          "output_type": "display_data",
          "data": {
            "image/png": "[encoded data removed]",
            "text/plain": [
              "<Figure size 432x288 with 2 Axes>"
            ]
          },
          "metadata": {
            "tags": []
          }
        }
      ]
    },
    {
      "cell_type": "markdown",
      "metadata": {
        "id": "CBgD03P9O1oq"
      },
      "source": [
        "## Saving the fine-tuned VGG16 model\n",
        "\n",
        "Now that the model has been trained and tested, it should be saved so we can classify new images without retraining."
      ]
    },
    {
      "cell_type": "code",
      "metadata": {
        "id": "t9xDc240_nCV"
      },
      "source": [
        "# model.save('animalsVGG16.h5')\n",
        "# print(\"Model Saved.\")"
      ],
      "execution_count": null,
      "outputs": []
    },
    {
      "cell_type": "markdown",
      "metadata": {
        "id": "KNkDKsfRcVS9"
      },
      "source": [
        "## Loading the fine-tuned VGG16 model\n",
        "\n",
        "In a production environment, the model could be loaded."
      ]
    },
    {
      "cell_type": "code",
      "metadata": {
        "id": "j4acEqPacdvM"
      },
      "source": [
        "# model.load_weights('animalsVGG16.h5')\n",
        "# print(\"Model Loaded.\")"
      ],
      "execution_count": null,
      "outputs": []
    },
    {
      "cell_type": "markdown",
      "metadata": {
        "id": "rNHYAMiphMX_"
      },
      "source": [
        "## Conclusion\n",
        "\n",
        "In this notebook, using transfer learning for image classification has been demonstrated. First, the data is uploaded and connected to the Keras API. Then, the model is defined by copying a pretrained model and adding a new output layer. Once defined, the model can be trained using the appropriate loss function. Finally, the model is evaluated using a test dataset. With minimal modification, the model can be used to predict multiple classes beyond two, as well as predicting scalar values. It is encouraged to use this notebook as a templete for similar models using novel datasets. "
      ]
    }
  ]
}